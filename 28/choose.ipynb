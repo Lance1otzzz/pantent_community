{
 "cells": [
  {
   "cell_type": "markdown",
   "source": [
    "# 1 提取相关专利列表"
   ],
   "metadata": {
    "collapsed": false
   },
   "id": "ca7d7cb4b7392037"
  },
  {
   "cell_type": "code",
   "outputs": [
    {
     "data": {
      "text/plain": "   patent_id  cpc_sequence cpc_section cpc_class cpc_subclass  cpc_group  \\\n0    3950000             0           A       A63         A63C  A63C9/001   \n1    3950000             1           A       A63         A63C   A63C9/00   \n2    3950000             2           A       A63         A63C  A63C9/002   \n3    3950000             3           A       A63         A63C  A63C9/081   \n4    3950001             0           A       A63         A63C  A63C9/086   \n\n      cpc_type  \n0  inventional  \n1  inventional  \n2  inventional  \n3  inventional  \n4  inventional  ",
      "text/html": "<div>\n<style scoped>\n    .dataframe tbody tr th:only-of-type {\n        vertical-align: middle;\n    }\n\n    .dataframe tbody tr th {\n        vertical-align: top;\n    }\n\n    .dataframe thead th {\n        text-align: right;\n    }\n</style>\n<table border=\"1\" class=\"dataframe\">\n  <thead>\n    <tr style=\"text-align: right;\">\n      <th></th>\n      <th>patent_id</th>\n      <th>cpc_sequence</th>\n      <th>cpc_section</th>\n      <th>cpc_class</th>\n      <th>cpc_subclass</th>\n      <th>cpc_group</th>\n      <th>cpc_type</th>\n    </tr>\n  </thead>\n  <tbody>\n    <tr>\n      <th>0</th>\n      <td>3950000</td>\n      <td>0</td>\n      <td>A</td>\n      <td>A63</td>\n      <td>A63C</td>\n      <td>A63C9/001</td>\n      <td>inventional</td>\n    </tr>\n    <tr>\n      <th>1</th>\n      <td>3950000</td>\n      <td>1</td>\n      <td>A</td>\n      <td>A63</td>\n      <td>A63C</td>\n      <td>A63C9/00</td>\n      <td>inventional</td>\n    </tr>\n    <tr>\n      <th>2</th>\n      <td>3950000</td>\n      <td>2</td>\n      <td>A</td>\n      <td>A63</td>\n      <td>A63C</td>\n      <td>A63C9/002</td>\n      <td>inventional</td>\n    </tr>\n    <tr>\n      <th>3</th>\n      <td>3950000</td>\n      <td>3</td>\n      <td>A</td>\n      <td>A63</td>\n      <td>A63C</td>\n      <td>A63C9/081</td>\n      <td>inventional</td>\n    </tr>\n    <tr>\n      <th>4</th>\n      <td>3950001</td>\n      <td>0</td>\n      <td>A</td>\n      <td>A63</td>\n      <td>A63C</td>\n      <td>A63C9/086</td>\n      <td>inventional</td>\n    </tr>\n  </tbody>\n</table>\n</div>"
     },
     "execution_count": 2,
     "metadata": {},
     "output_type": "execute_result"
    }
   ],
   "source": [
    "import pandas as pd\n",
    "new_df = pd.read_csv('g_cpc_current.tsv', delimiter='\\t')\n",
    "new_df.head()"
   ],
   "metadata": {
    "collapsed": false,
    "ExecuteTime": {
     "end_time": "2024-04-01T12:50:35.023600Z",
     "start_time": "2024-04-01T12:50:12.925308Z"
    }
   },
   "id": "dee8fb55472e70e5",
   "execution_count": 2
  },
  {
   "cell_type": "code",
   "outputs": [],
   "source": [
    "catories_df = pd.read_csv('./subcategories/agriculture_columns.csv')\n",
    "agriculture_group = catories_df['cpc_group'].tolist()"
   ],
   "metadata": {
    "collapsed": false,
    "ExecuteTime": {
     "end_time": "2024-04-01T12:57:43.054846Z",
     "start_time": "2024-04-01T12:57:43.046758Z"
    }
   },
   "id": "138df0bb424ff23a",
   "execution_count": 13
  },
  {
   "cell_type": "code",
   "outputs": [],
   "source": [
    "import warnings\n",
    "warnings.filterwarnings(\"ignore\")"
   ],
   "metadata": {
    "collapsed": false,
    "ExecuteTime": {
     "end_time": "2024-04-01T13:27:12.919743Z",
     "start_time": "2024-04-01T13:27:12.909168Z"
    }
   },
   "id": "aab699c8f222676a",
   "execution_count": 15
  },
  {
   "cell_type": "code",
   "outputs": [
    {
     "name": "stderr",
     "output_type": "stream",
     "text": [
      "100%|██████████| 52529/52529 [00:40<00:00, 1282.97it/s]\n"
     ]
    }
   ],
   "source": [
    "import pandas as pd\n",
    "from tqdm import tqdm\n",
    "\n",
    "agriculture_patents = pd.DataFrame(columns=new_df.columns)\n",
    "\n",
    "n_chunks = len(new_df) // 1000 + (1 if len(new_df) % 1000 > 0 else 0)\n",
    "\n",
    "# 使用 tqdm 来显示进度\n",
    "for start_row in tqdm(range(n_chunks)):\n",
    "    end_row = start_row * 1000 + 1000\n",
    "    chunk = new_df.iloc[start_row*1000:end_row]\n",
    "    filtered_chunk = chunk[chunk['cpc_group'].isin(agriculture_group)]\n",
    "    agriculture_patents = pd.concat([agriculture_patents, filtered_chunk], ignore_index=True)\n",
    "\n",
    "# 将筛选后的 DataFrame 保存为 CSV 文件\n",
    "agriculture_patents.to_csv('patents_in_subcatories/agriculture_dataframe.csv', index=False)\n"
   ],
   "metadata": {
    "collapsed": false,
    "ExecuteTime": {
     "end_time": "2024-04-01T13:29:10.307877Z",
     "start_time": "2024-04-01T13:28:29.296695Z"
    }
   },
   "id": "771d3e67d8e40ce3",
   "execution_count": 17
  },
  {
   "cell_type": "code",
   "outputs": [
    {
     "name": "stderr",
     "output_type": "stream",
     "text": [
      "100%|██████████| 52529/52529 [04:42<00:00, 186.17it/s] \n"
     ]
    }
   ],
   "source": [
    "catories_df = pd.read_csv('./subcategories/computer_columns.csv')\n",
    "computer_group = catories_df['cpc_group'].tolist()\n",
    "\n",
    "computer_patents = pd.DataFrame(columns=new_df.columns)\n",
    "\n",
    "n_chunks = len(new_df) // 1000 + (1 if len(new_df) % 1000 > 0 else 0)\n",
    "\n",
    "# 使用 tqdm 来显示进度\n",
    "for start_row in tqdm(range(n_chunks)):\n",
    "    end_row = start_row * 1000 + 1000\n",
    "    chunk = new_df.iloc[start_row*1000:end_row]\n",
    "    filtered_chunk = chunk[chunk['cpc_group'].isin(computer_group)]\n",
    "    computer_patents = pd.concat([computer_patents, filtered_chunk], ignore_index=True)\n",
    "\n",
    "# 将筛选后的 DataFrame 保存为 CSV 文件\n",
    "computer_patents.to_csv('patents_in_subcatories/computer_dataframe.csv', index=False)\n"
   ],
   "metadata": {
    "collapsed": false,
    "ExecuteTime": {
     "end_time": "2024-04-01T13:37:24.833589Z",
     "start_time": "2024-04-01T13:32:41.963859Z"
    }
   },
   "id": "4fb871d738c71a82",
   "execution_count": 18
  },
  {
   "cell_type": "code",
   "outputs": [
    {
     "name": "stderr",
     "output_type": "stream",
     "text": [
      "100%|██████████| 52529/52529 [22:22<00:00, 39.11it/s] \n"
     ]
    }
   ],
   "source": [
    "catories_df = pd.read_csv('./subcategories/drugs_columns.csv')\n",
    "drugs_group = catories_df['cpc_group'].tolist()\n",
    "\n",
    "drugs_patents = pd.DataFrame(columns=new_df.columns)\n",
    "\n",
    "n_chunks = len(new_df) // 1000 + (1 if len(new_df) % 1000 > 0 else 0)\n",
    "\n",
    "# 使用 tqdm 来显示进度\n",
    "for start_row in tqdm(range(n_chunks)):\n",
    "    end_row = start_row * 1000 + 1000\n",
    "    chunk = new_df.iloc[start_row*1000:end_row]\n",
    "    filtered_chunk = chunk[chunk['cpc_group'].isin(drugs_group)]\n",
    "    drugs_patents = pd.concat([drugs_patents, filtered_chunk], ignore_index=True)\n",
    "\n",
    "# 将筛选后的 DataFrame 保存为 CSV 文件\n",
    "drugs_patents.to_csv('patents_in_subcatories/drugs_dataframe.csv', index=False)\n"
   ],
   "metadata": {
    "collapsed": false,
    "ExecuteTime": {
     "end_time": "2024-04-01T13:59:50.902749Z",
     "start_time": "2024-04-01T13:37:24.834619Z"
    }
   },
   "id": "ca213c79bf12ef10",
   "execution_count": 19
  },
  {
   "cell_type": "code",
   "outputs": [
    {
     "name": "stderr",
     "output_type": "stream",
     "text": [
      "100%|██████████| 52529/52529 [00:47<00:00, 1103.75it/s]\n"
     ]
    }
   ],
   "source": [
    "catories_df = pd.read_csv('./subcategories/electrical_devices_columns.csv')\n",
    "electrical_devices_group = catories_df['cpc_group'].tolist()\n",
    "\n",
    "electrical_devices_patents = pd.DataFrame(columns=new_df.columns)\n",
    "\n",
    "n_chunks = len(new_df) // 1000 + (1 if len(new_df) % 1000 > 0 else 0)\n",
    "\n",
    "# 使用 tqdm 来显示进度\n",
    "for start_row in tqdm(range(n_chunks)):\n",
    "    end_row = start_row * 1000 + 1000\n",
    "    chunk = new_df.iloc[start_row*1000:end_row]\n",
    "    filtered_chunk = chunk[chunk['cpc_group'].isin(electrical_devices_group)]\n",
    "    electrical_devices_patents = pd.concat([electrical_devices_patents, filtered_chunk], ignore_index=True)\n",
    "\n",
    "# 将筛选后的 DataFrame 保存为 CSV 文件\n",
    "electrical_devices_patents.to_csv('patents_in_subcatories/electrical_devices_dataframe.csv', index=False)\n"
   ],
   "metadata": {
    "collapsed": false,
    "ExecuteTime": {
     "end_time": "2024-04-01T14:00:38.512670Z",
     "start_time": "2024-04-01T13:59:50.904759Z"
    }
   },
   "id": "38dd06bf28bc85c7",
   "execution_count": 20
  },
  {
   "cell_type": "code",
   "outputs": [
    {
     "name": "stderr",
     "output_type": "stream",
     "text": [
      "100%|██████████| 52529/52529 [11:21<00:00, 77.03it/s] \n"
     ]
    }
   ],
   "source": [
    "catories_df = pd.read_csv('./subcategories/organic_compounds_columns.csv')\n",
    "organic_compounds_group = catories_df['cpc_group'].tolist()\n",
    "\n",
    "organic_compounds_patents = pd.DataFrame(columns=new_df.columns)\n",
    "\n",
    "n_chunks = len(new_df) // 1000 + (1 if len(new_df) % 1000 > 0 else 0)\n",
    "\n",
    "# 使用 tqdm 来显示进度\n",
    "for start_row in tqdm(range(n_chunks)):\n",
    "    end_row = start_row * 1000 + 1000\n",
    "    chunk = new_df.iloc[start_row*1000:end_row]\n",
    "    filtered_chunk = chunk[chunk['cpc_group'].isin(organic_compounds_group)]\n",
    "    organic_compounds_patents = pd.concat([organic_compounds_patents, filtered_chunk], ignore_index=True)\n",
    "\n",
    "# 将筛选后的 DataFrame 保存为 CSV 文件\n",
    "organic_compounds_patents.to_csv('patents_in_subcatories/organic_compounds_dataframe.csv', index=False)"
   ],
   "metadata": {
    "collapsed": false,
    "ExecuteTime": {
     "end_time": "2024-04-01T14:12:01.666338Z",
     "start_time": "2024-04-01T14:00:38.514185Z"
    }
   },
   "id": "d890991ee908181a",
   "execution_count": 21
  },
  {
   "cell_type": "code",
   "outputs": [
    {
     "name": "stderr",
     "output_type": "stream",
     "text": [
      "100%|██████████| 52529/52529 [02:51<00:00, 305.56it/s]\n"
     ]
    }
   ],
   "source": [
    "catories_df = pd.read_csv('./subcategories/transportation_columns.csv')\n",
    "transportation_group = catories_df['cpc_group'].tolist()\n",
    "\n",
    "transportation_patents = pd.DataFrame(columns=new_df.columns)\n",
    "\n",
    "n_chunks = len(new_df) // 1000 + (1 if len(new_df) % 1000 > 0 else 0)\n",
    "\n",
    "# 使用 tqdm 来显示进度\n",
    "for start_row in tqdm(range(n_chunks)):\n",
    "    end_row = start_row * 1000 + 1000\n",
    "    chunk = new_df.iloc[start_row*1000:end_row]\n",
    "    filtered_chunk = chunk[chunk['cpc_group'].isin(transportation_group)]\n",
    "    transportation_patents = pd.concat([transportation_patents, filtered_chunk], ignore_index=True)\n",
    "\n",
    "# 将筛选后的 DataFrame 保存为 CSV 文件\n",
    "transportation_patents.to_csv('patents_in_subcatories/transportation_dataframe.csv', index=False)\n"
   ],
   "metadata": {
    "collapsed": false,
    "ExecuteTime": {
     "end_time": "2024-04-01T14:14:53.910533Z",
     "start_time": "2024-04-01T14:12:01.667845Z"
    }
   },
   "id": "6142b399703952f",
   "execution_count": 22
  },
  {
   "cell_type": "markdown",
   "source": [
    "# 2 提取引用"
   ],
   "metadata": {
    "collapsed": false
   },
   "id": "90ae04cb16dbd369"
  },
  {
   "cell_type": "code",
   "outputs": [],
   "source": [
    "df = pd.read_csv('newfile.csv',usecols=['patent_id','citation_patent_id','citation_date'])"
   ],
   "metadata": {
    "collapsed": false,
    "ExecuteTime": {
     "end_time": "2024-04-01T15:30:31.835228Z",
     "start_time": "2024-04-01T15:29:28.519676Z"
    }
   },
   "id": "e950afe393a1c990",
   "execution_count": 25
  },
  {
   "cell_type": "code",
   "outputs": [
    {
     "data": {
      "text/plain": "  patent_id citation_patent_id citation_date\n0  10000000            5093563    1992-03-01\n1  10000000            5751830    1998-05-01\n2  10000001            7804268    2010-09-01\n3  10000001            9022767    2015-05-01\n4  10000001            9090016    2015-07-01",
      "text/html": "<div>\n<style scoped>\n    .dataframe tbody tr th:only-of-type {\n        vertical-align: middle;\n    }\n\n    .dataframe tbody tr th {\n        vertical-align: top;\n    }\n\n    .dataframe thead th {\n        text-align: right;\n    }\n</style>\n<table border=\"1\" class=\"dataframe\">\n  <thead>\n    <tr style=\"text-align: right;\">\n      <th></th>\n      <th>patent_id</th>\n      <th>citation_patent_id</th>\n      <th>citation_date</th>\n    </tr>\n  </thead>\n  <tbody>\n    <tr>\n      <th>0</th>\n      <td>10000000</td>\n      <td>5093563</td>\n      <td>1992-03-01</td>\n    </tr>\n    <tr>\n      <th>1</th>\n      <td>10000000</td>\n      <td>5751830</td>\n      <td>1998-05-01</td>\n    </tr>\n    <tr>\n      <th>2</th>\n      <td>10000001</td>\n      <td>7804268</td>\n      <td>2010-09-01</td>\n    </tr>\n    <tr>\n      <th>3</th>\n      <td>10000001</td>\n      <td>9022767</td>\n      <td>2015-05-01</td>\n    </tr>\n    <tr>\n      <th>4</th>\n      <td>10000001</td>\n      <td>9090016</td>\n      <td>2015-07-01</td>\n    </tr>\n  </tbody>\n</table>\n</div>"
     },
     "execution_count": 26,
     "metadata": {},
     "output_type": "execute_result"
    }
   ],
   "source": [
    "df.head()"
   ],
   "metadata": {
    "collapsed": false,
    "ExecuteTime": {
     "end_time": "2024-04-01T15:33:20.337699Z",
     "start_time": "2024-04-01T15:33:20.312654Z"
    }
   },
   "id": "b500f4b387505474",
   "execution_count": 26
  },
  {
   "cell_type": "markdown",
   "source": [],
   "metadata": {
    "collapsed": false
   },
   "id": "d855df329f001ea0"
  },
  {
   "cell_type": "code",
   "outputs": [],
   "source": [
    "def trans(input,output):\n",
    "    df1 = pd.read_csv(input, usecols=['patent_id'])\n",
    "    common_rows = df[df['patent_id'].isin(df1['patent_id'])]\n",
    "    common_rows.to_csv(output, index=False)\n",
    "    \n",
    "trans('patents_in_subcatories/agriculture_dataframe.csv','selected_patents/agriculture_citation.csv')\n",
    "trans('patents_in_subcatories/computer_dataframe.csv','selected_patents/computer_citation.csv')\n",
    "trans('patents_in_subcatories/drugs_dataframe.csv','selected_patents/drugs_citation.csv')\n",
    "trans('patents_in_subcatories/electrical_devices_dataframe.csv','selected_patents/electrical_devices_citation.csv')\n",
    "trans('patents_in_subcatories/organic_compounds_dataframe.csv','selected_patents/organic_compounds_citation.csv')\n",
    "trans('patents_in_subcatories/transportation_dataframe.csv','selected_patents/transportation_citation.csv')\n"
   ],
   "metadata": {
    "collapsed": false,
    "ExecuteTime": {
     "end_time": "2024-04-01T15:43:54.827553Z",
     "start_time": "2024-04-01T15:43:27.213400Z"
    }
   },
   "id": "79a2ffd37f9fbc66",
   "execution_count": 28
  }
 ],
 "metadata": {
  "kernelspec": {
   "display_name": "Python 3",
   "language": "python",
   "name": "python3"
  },
  "language_info": {
   "codemirror_mode": {
    "name": "ipython",
    "version": 2
   },
   "file_extension": ".py",
   "mimetype": "text/x-python",
   "name": "python",
   "nbconvert_exporter": "python",
   "pygments_lexer": "ipython2",
   "version": "2.7.6"
  }
 },
 "nbformat": 4,
 "nbformat_minor": 5
}
