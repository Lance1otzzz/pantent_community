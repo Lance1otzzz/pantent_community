{
 "cells": [
  {
   "cell_type": "code",
   "execution_count": 1,
   "id": "initial_id",
   "metadata": {
    "collapsed": true,
    "ExecuteTime": {
     "end_time": "2024-04-01T12:30:44.675769Z",
     "start_time": "2024-04-01T12:30:42.354234Z"
    }
   },
   "outputs": [],
   "source": [
    "import pandas as pd\n",
    "import re\n",
    "\n",
    "# 读取TSV文件\n",
    "df = pd.read_csv('g_cpc_title.tsv', sep='\\t')\n",
    "\n",
    "# 创建一个空的列表，用于存储包含\"Organic compounds\"字样的列名\n",
    "organic_compounds_columns = []\n",
    "\n",
    "# 遍历每一列\n",
    "for col in df['cpc_group_title']:\n",
    "    # 使用正则表达式搜索\"Organic compounds\"\n",
    "    if re.search(\"Organic compounds\", str(col), re.IGNORECASE):\n",
    "        # 如果找到，将列名添加到列表中\n",
    "        organic_compounds_columns.append(col)\n",
    "    \n"
   ]
  },
  {
   "cell_type": "code",
   "outputs": [],
   "source": [
    "\n",
    "# 将筛选出的列名保存到一个列表中\n",
    "organic_compounds_columns = list(set(organic_compounds_columns))\n",
    "\n",
    "# 使用pandas的DataFrame函数将列表转换为DataFrame\n",
    "df_organic_compounds = pd.DataFrame(organic_compounds_columns, columns=['cpc_group_title'])\n",
    "\n",
    "# 将DataFrame保存为CSV文件\n",
    "df_organic_compounds.to_csv('organic_compounds_columns.csv', index=False)\n"
   ],
   "metadata": {
    "collapsed": false,
    "ExecuteTime": {
     "end_time": "2024-04-01T12:30:44.707794Z",
     "start_time": "2024-04-01T12:30:44.676772Z"
    }
   },
   "id": "7269b18f2d2f8263",
   "execution_count": 2
  },
  {
   "cell_type": "code",
   "outputs": [
    {
     "name": "stderr",
     "output_type": "stream",
     "text": [
      "C:\\Users\\ASUS\\AppData\\Local\\Temp\\ipykernel_21520\\3362384356.py:12: FutureWarning: The frame.append method is deprecated and will be removed from pandas in a future version. Use pandas.concat instead.\n",
      "  df_organic_compounds = df_organic_compounds.append(row, ignore_index=True)\n"
     ]
    }
   ],
   "source": [
    "# 读取TSV文件\n",
    "df = pd.read_csv('g_cpc_title.tsv', sep='\\t')\n",
    "\n",
    "# 创建一个空的DataFrame，用于存储筛选后的结果\n",
    "df_organic_compounds = pd.DataFrame(columns=df.columns)\n",
    "\n",
    "# 遍历每一行\n",
    "for index, row in df.iterrows():\n",
    "    # 使用正则表达式搜索\"Organic compounds\"\n",
    "    if re.search(\"Organic compounds\", str(row['cpc_group_title']), re.IGNORECASE) and not re.search(\"inorganic compounds\", str(row['cpc_group_title']), re.IGNORECASE):\n",
    "        # 如果找到，将这一行添加到新的DataFrame中\n",
    "        df_organic_compounds = df_organic_compounds.append(row, ignore_index=True)\n",
    "\n",
    "# 将新的DataFrame保存为CSV文件\n",
    "df_organic_compounds.to_csv('subcategories\\organic_compounds_columns.csv', index=False)\n"
   ],
   "metadata": {
    "collapsed": false,
    "ExecuteTime": {
     "end_time": "2024-04-01T12:30:53.862112Z",
     "start_time": "2024-04-01T12:30:44.707794Z"
    }
   },
   "id": "a672b05be683eb87",
   "execution_count": 3
  },
  {
   "cell_type": "code",
   "outputs": [
    {
     "name": "stderr",
     "output_type": "stream",
     "text": [
      "C:\\Users\\ASUS\\AppData\\Local\\Temp\\ipykernel_21520\\512716198.py:10: FutureWarning: The frame.append method is deprecated and will be removed from pandas in a future version. Use pandas.concat instead.\n",
      "  df_computer = df_computer.append(row, ignore_index=True)\n"
     ]
    }
   ],
   "source": [
    "# 主题2，computer hardware/software\n",
    "# 创建一个空的DataFrame，用于存储筛选后的结果\n",
    "df_computer = pd.DataFrame(columns=df.columns)\n",
    "\n",
    "# 遍历每一行\n",
    "for index, row in df.iterrows():\n",
    "    # 使用正则表达式搜索\"Organic compounds\"\n",
    "    if re.search(\"Computer hardware\", str(row['cpc_group_title']), re.IGNORECASE) or re.search(\"software\", str(row['cpc_group_title']), re.IGNORECASE):\n",
    "        # 如果找到，将这一行添加到新的DataFrame中\n",
    "        df_computer = df_computer.append(row, ignore_index=True)\n",
    "\n",
    "# 将新的DataFrame保存为CSV文件\n",
    "df_computer.to_csv('subcategories\\computer_columns.csv', index=False)\n"
   ],
   "metadata": {
    "collapsed": false,
    "ExecuteTime": {
     "end_time": "2024-04-01T12:31:02.782963Z",
     "start_time": "2024-04-01T12:30:53.863103Z"
    }
   },
   "id": "23c67dfd51a97e36",
   "execution_count": 4
  },
  {
   "cell_type": "code",
   "outputs": [
    {
     "name": "stderr",
     "output_type": "stream",
     "text": [
      "C:\\Users\\ASUS\\AppData\\Local\\Temp\\ipykernel_21520\\3836901892.py:8: FutureWarning: The frame.append method is deprecated and will be removed from pandas in a future version. Use pandas.concat instead.\n",
      "  df_transportation = df_transportation.append(row, ignore_index=True)\n"
     ]
    }
   ],
   "source": [
    "df_transportation = pd.DataFrame(columns=df.columns)\n",
    "\n",
    "# 遍历每一行\n",
    "for index, row in df.iterrows():\n",
    "    # 使用正则表达式搜索\"Organic compounds\"\n",
    "    if re.search(\"transportation\", str(row['cpc_group_title']), re.IGNORECASE) :\n",
    "        # 如果找到，将这一行添加到新的DataFrame中\n",
    "        df_transportation = df_transportation.append(row, ignore_index=True)\n",
    "\n",
    "# 将新的DataFrame保存为CSV文件\n",
    "df_transportation.to_csv('.\\subcategories\\\\transportation_columns.csv', index=False)"
   ],
   "metadata": {
    "collapsed": false,
    "ExecuteTime": {
     "end_time": "2024-04-01T12:31:10.141408Z",
     "start_time": "2024-04-01T12:31:02.783954Z"
    }
   },
   "id": "3e7da02a10244f7f",
   "execution_count": 5
  },
  {
   "cell_type": "code",
   "outputs": [
    {
     "name": "stderr",
     "output_type": "stream",
     "text": [
      "C:\\Users\\ASUS\\AppData\\Local\\Temp\\ipykernel_21520\\2875890974.py:8: FutureWarning: The frame.append method is deprecated and will be removed from pandas in a future version. Use pandas.concat instead.\n",
      "  df_drugs = df_drugs.append(row, ignore_index=True)\n"
     ]
    }
   ],
   "source": [
    "df_drugs = pd.DataFrame(columns=df.columns)\n",
    "\n",
    "# 遍历每一行\n",
    "for index, row in df.iterrows():\n",
    "    # 使用正则表达式搜索\"Organic compounds\"\n",
    "    if re.search(\"drugs\", str(row['cpc_group_title']), re.IGNORECASE) :\n",
    "        # 如果找到，将这一行添加到新的DataFrame中\n",
    "        df_drugs = df_drugs.append(row, ignore_index=True)\n",
    "\n",
    "# 将新的DataFrame保存为CSV文件\n",
    "df_drugs.to_csv('subcategories\\drugs_columns.csv', index=False)"
   ],
   "metadata": {
    "collapsed": false,
    "ExecuteTime": {
     "end_time": "2024-04-01T12:31:16.554349Z",
     "start_time": "2024-04-01T12:31:10.142408Z"
    }
   },
   "id": "17e39cc53ce5213b",
   "execution_count": 6
  },
  {
   "cell_type": "code",
   "outputs": [
    {
     "name": "stderr",
     "output_type": "stream",
     "text": [
      "C:\\Users\\ASUS\\AppData\\Local\\Temp\\ipykernel_21520\\1348792237.py:8: FutureWarning: The frame.append method is deprecated and will be removed from pandas in a future version. Use pandas.concat instead.\n",
      "  df_agriculture = df_agriculture.append(row, ignore_index=True)\n"
     ]
    }
   ],
   "source": [
    "df_agriculture = pd.DataFrame(columns=df.columns)\n",
    "\n",
    "# 遍历每一行\n",
    "for index, row in df.iterrows():\n",
    "    # 使用正则表达式搜索\"Organic compounds\"\n",
    "    if re.search(\"agriculture\", str(row['cpc_group_title']), re.IGNORECASE) :\n",
    "        # 如果找到，将这一行添加到新的DataFrame中\n",
    "        df_agriculture = df_agriculture.append(row, ignore_index=True)\n",
    "\n",
    "# 将新的DataFrame保存为CSV文件\n",
    "df_agriculture.to_csv('subcategories\\\\agriculture_columns.csv', index=False)"
   ],
   "metadata": {
    "collapsed": false,
    "ExecuteTime": {
     "end_time": "2024-04-01T12:31:22.788252Z",
     "start_time": "2024-04-01T12:31:16.554349Z"
    }
   },
   "id": "ce3a885885078e65",
   "execution_count": 7
  },
  {
   "cell_type": "code",
   "outputs": [
    {
     "name": "stderr",
     "output_type": "stream",
     "text": [
      "C:\\Users\\ASUS\\AppData\\Local\\Temp\\ipykernel_21520\\2111191116.py:8: FutureWarning: The frame.append method is deprecated and will be removed from pandas in a future version. Use pandas.concat instead.\n",
      "  df_electrical_devices = df_electrical_devices.append(row, ignore_index=True)\n"
     ]
    }
   ],
   "source": [
    "df_electrical_devices = pd.DataFrame(columns=df.columns)\n",
    "\n",
    "# 遍历每一行\n",
    "for index, row in df.iterrows():\n",
    "    # 使用正则表达式搜索\"Organic compounds\"\n",
    "    if re.search(\"electrical devices\", str(row['cpc_group_title']), re.IGNORECASE) :\n",
    "        # 如果找到，将这一行添加到新的DataFrame中\n",
    "        df_electrical_devices = df_electrical_devices.append(row, ignore_index=True)\n",
    "\n",
    "# 将新的DataFrame保存为CSV文件\n",
    "df_electrical_devices.to_csv('subcategories\\electrical_devices_columns.csv', index=False)"
   ],
   "metadata": {
    "collapsed": false,
    "ExecuteTime": {
     "end_time": "2024-04-01T12:31:29.039089Z",
     "start_time": "2024-04-01T12:31:22.789260Z"
    }
   },
   "id": "33c6e1c1642b85bb",
   "execution_count": 8
  }
 ],
 "metadata": {
  "kernelspec": {
   "display_name": "Python 3",
   "language": "python",
   "name": "python3"
  },
  "language_info": {
   "codemirror_mode": {
    "name": "ipython",
    "version": 2
   },
   "file_extension": ".py",
   "mimetype": "text/x-python",
   "name": "python",
   "nbconvert_exporter": "python",
   "pygments_lexer": "ipython2",
   "version": "2.7.6"
  }
 },
 "nbformat": 4,
 "nbformat_minor": 5
}
