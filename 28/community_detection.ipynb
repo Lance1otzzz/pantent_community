{
 "cells": [
  {
   "cell_type": "code",
   "outputs": [],
   "source": [
    "import pandas as pd\n",
    "from igraph import Graph\n",
    "import leidenalg\n",
    "\n",
    "# 加载数据\n",
    "edges = pd.read_csv('selected_patents/drugs_citation.csv',usecols=['patent_id','citation_patent_id']) # 修改为你的文件路径\n",
    "\n",
    "# 创建图\n",
    "g = Graph.TupleList(edges.itertuples(index=False), directed=False)\n",
    "\n",
    "# 应用Leiden算法\n",
    "partition = leidenalg.find_partition(g, leidenalg.ModularityVertexPartition)"
   ],
   "metadata": {
    "collapsed": false,
    "ExecuteTime": {
     "end_time": "2024-04-03T03:55:36.448552Z",
     "start_time": "2024-04-03T03:55:25.866196Z"
    }
   },
   "id": "7d45810e4bbfdba7",
   "execution_count": 47
  },
  {
   "cell_type": "code",
   "outputs": [
    {
     "ename": "NameError",
     "evalue": "name 'g' is not defined",
     "output_type": "error",
     "traceback": [
      "\u001B[1;31m---------------------------------------------------------------------------\u001B[0m",
      "\u001B[1;31mNameError\u001B[0m                                 Traceback (most recent call last)",
      "Cell \u001B[1;32mIn[1], line 2\u001B[0m\n\u001B[0;32m      1\u001B[0m \u001B[38;5;66;03m# 创建映射关系\u001B[39;00m\n\u001B[1;32m----> 2\u001B[0m id_mapping \u001B[38;5;241m=\u001B[39m {v\u001B[38;5;241m.\u001B[39mindex: v[\u001B[38;5;124m'\u001B[39m\u001B[38;5;124mname\u001B[39m\u001B[38;5;124m'\u001B[39m] \u001B[38;5;28;01mfor\u001B[39;00m v \u001B[38;5;129;01min\u001B[39;00m \u001B[43mg\u001B[49m\u001B[38;5;241m.\u001B[39mvs}\n\u001B[0;32m      4\u001B[0m len_list \u001B[38;5;241m=\u001B[39m []\n\u001B[0;32m      5\u001B[0m \u001B[38;5;66;03m# 使用映射打印社群和它们的原始节点标识符\u001B[39;00m\n",
      "\u001B[1;31mNameError\u001B[0m: name 'g' is not defined"
     ]
    }
   ],
   "source": [
    "# 创建映射关系\n",
    "id_mapping = {v.index: v['name'] for v in g.vs}\n",
    "\n",
    "len_list = []\n",
    "# 使用映射打印社群和它们的原始节点标识符\n",
    "for i, community in enumerate(partition):\n",
    "    original_ids = [id_mapping[node] for node in community]\n",
    "    print(f\"Community {i}: {original_ids}\")\n",
    "    len_list.append(len(original_ids))"
   ],
   "metadata": {
    "collapsed": false,
    "ExecuteTime": {
     "end_time": "2024-04-03T11:41:23.761469Z",
     "start_time": "2024-04-03T11:41:23.377340Z"
    }
   },
   "id": "9821d1fef544f518",
   "execution_count": 1
  },
  {
   "cell_type": "code",
   "outputs": [],
   "source": [],
   "metadata": {
    "collapsed": false
   },
   "id": "3cafcf7cfbe3dc4d",
   "execution_count": 48
  },
  {
   "cell_type": "code",
   "outputs": [
    {
     "data": {
      "text/plain": "dict_keys([0, 1, 2, 3, 4, 5, 6, 7, 8, 9, 10, 11, 12, 13, 14, 15, 16, 17, 18, 19, 20, 21, 22, 23, 24, 25, 26, 27, 28, 29, 30, 31, 32, 33, 34, 35, 36, 37, 38, 39, 40, 41, 42, 43, 44, 45, 46, 47, 48, 49, 50, 51, 52, 53, 54, 55, 56, 57, 58, 59, 60, 61, 62, 63, 64, 65, 66, 67, 68, 69, 70, 71, 72, 73, 74, 75, 76, 77, 78, 79, 80, 81, 82, 83, 84, 85, 86, 87, 88, 89, 90])"
     },
     "execution_count": 49,
     "metadata": {},
     "output_type": "execute_result"
    }
   ],
   "source": [
    "chosen_community = {}\n",
    "for i,community in enumerate(partition):\n",
    "    original_ids = [str(id_mapping[node] )for node in community]\n",
    "    if len(original_ids) >= 200:\n",
    "        chosen_community[i]= original_ids\n",
    "chosen_community.keys()"
   ],
   "metadata": {
    "collapsed": false,
    "ExecuteTime": {
     "end_time": "2024-04-03T03:55:37.286625Z",
     "start_time": "2024-04-03T03:55:37.082600Z"
    }
   },
   "id": "2063c5e35f3528e2",
   "execution_count": 49
  },
  {
   "cell_type": "code",
   "outputs": [],
   "source": [
    "import json\n",
    "file_path = 'communities/drugs_communities.json' \n",
    "with open(file_path, 'w') as json_file:\n",
    "    # 使用json.dump()函数保存字典到文件\n",
    "    json.dump(chosen_community, json_file)  # indent参数确保了输出的格式化，使得JSON文件更易于阅读\n"
   ],
   "metadata": {
    "collapsed": false,
    "ExecuteTime": {
     "end_time": "2024-04-03T03:55:37.474682Z",
     "start_time": "2024-04-03T03:55:37.287621Z"
    }
   },
   "id": "143ac574259d39b1",
   "execution_count": 50
  }
 ],
 "metadata": {
  "kernelspec": {
   "display_name": "Python 3",
   "language": "python",
   "name": "python3"
  },
  "language_info": {
   "codemirror_mode": {
    "name": "ipython",
    "version": 2
   },
   "file_extension": ".py",
   "mimetype": "text/x-python",
   "name": "python",
   "nbconvert_exporter": "python",
   "pygments_lexer": "ipython2",
   "version": "2.7.6"
  }
 },
 "nbformat": 4,
 "nbformat_minor": 5
}
