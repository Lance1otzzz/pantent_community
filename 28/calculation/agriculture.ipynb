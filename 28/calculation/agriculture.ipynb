{
 "cells": [
  {
   "cell_type": "code",
   "execution_count": 1,
   "id": "initial_id",
   "metadata": {
    "collapsed": true,
    "ExecuteTime": {
     "end_time": "2024-04-03T15:23:17.734384Z",
     "start_time": "2024-04-03T15:23:17.432890Z"
    }
   },
   "outputs": [],
   "source": [
    "import pandas as pd\n",
    "import numpy as np\n",
    "import json\n",
    "# 这里假设patents_data包含了专利ID和发表年份的信息\n",
    "\n",
    "# 定义CAGR计算函数\n",
    "def calculate_cagr(end_value, start_value, period):\n",
    "    if start_value == 0:  # 避免除以零的情况\n",
    "        return None\n",
    "    return ((end_value / start_value) ** (1 / period) - 1) * 100"
   ]
  },
  {
   "cell_type": "code",
   "outputs": [],
   "source": [
    "with open('D:/Py_and_ML/28/communities/agriculture_communities.json', 'r', encoding='utf-8') as file:\n",
    "    chosen_community = json.load(file)\n",
    "patents_data = pd.read_csv('D:/Py_and_ML/28/selected_patents/agriculture_citation.csv')\n",
    "\n",
    "cagr_results = []\n",
    "\n",
    "for community_id, patent_ids in chosen_community.items():\n",
    "    community_data = patents_data[patents_data['citation_patent_id'].isin(patent_ids)]\n",
    "    unique_years = sorted(community_data['Year'].unique())\n",
    "\n",
    "    for start_year in unique_years:\n",
    "        for period in [5, 10]:\n",
    "            end_year = start_year + period\n",
    "            if end_year in unique_years:\n",
    "                start_value = community_data[community_data['Year'] == start_year].shape[0]\n",
    "                end_value = community_data[community_data['Year'] == end_year].shape[0]\n",
    "                cagr = calculate_cagr(end_value, start_value, period)\n",
    "                if cagr is not None:  # 只有当CAGR可以被计算时才添加\n",
    "                    result_key = f'CAGR_{period}'\n",
    "                    if not any(d['CommunityID'] == community_id and d['Year'] == start_year for d in cagr_results):\n",
    "                        cagr_results.append({\n",
    "                            'CommunityID': community_id,\n",
    "                            'Year': start_year,\n",
    "                            result_key: cagr\n",
    "                        })\n",
    "                    else:\n",
    "                        # 如果该社区和年份的记录已存在，则更新记录\n",
    "                        for d in cagr_results:\n",
    "                            if d['CommunityID'] == community_id and d['Year'] == start_year:\n",
    "                                d[result_key] = cagr\n",
    "                                break\n",
    "\n",
    "# 转换为DataFrame\n",
    "cagr_df = pd.DataFrame(cagr_results)\n",
    "\n",
    "\n"
   ],
   "metadata": {
    "collapsed": false,
    "ExecuteTime": {
     "end_time": "2024-04-03T15:35:06.853122Z",
     "start_time": "2024-04-03T15:35:04.420464Z"
    }
   },
   "id": "ec8f04d288282f6d",
   "execution_count": 8
  },
  {
   "cell_type": "code",
   "outputs": [],
   "source": [
    "from collections import defaultdict\n",
    "\n",
    "# 将专利按社区组织\n",
    "community_patents = defaultdict(list)\n",
    "for community_id, patent_list in communities.items():\n",
    "    for patent_id in patent_list:\n",
    "        community_patents[community_id].append(patent_id)\n",
    "\n",
    "# 计算每个社区的平均相对专利年龄\n",
    "average_patent_age = {}\n",
    "max_year = citations['Year'].max()\n",
    "for community_id, patent_ids in community_patents.items():\n",
    "    patent_years = citations[citations['patent_id'].isin(patent_ids)]['Year']\n",
    "    if not patent_years.empty:\n",
    "        average_age = max_year - patent_years.mean()\n",
    "        average_patent_age[community_id] = average_age\n",
    "\n",
    "# 计算社区内部引用比例\n",
    "internal_citation_ratios = {}\n",
    "for community_id, patent_ids in community_patents.items():\n",
    "    internal_citations = citations[(citations['patent_id'].isin(patent_ids)) & (citations['citation_patent_id'].isin(patent_ids))]\n",
    "    total_citations = citations[citations['patent_id'].isin(patent_ids)]\n",
    "    if not total_citations.empty:\n",
    "        ratio = len(internal_citations) / len(total_citations)\n",
    "        internal_citation_ratios[community_id] = ratio\n",
    "\n",
    "# 准备汇总DataFrame\n",
    "summary_df = pd.DataFrame({\n",
    "    \"CommunityID\": list(community_patents.keys()),\n",
    "    \"AveragePatentAge\": [average_patent_age.get(cid, None) for cid in community_patents.keys()],\n",
    "    \"InternalCitationRatio\": [internal_citation_ratios.get(cid, None) for cid in community_patents.keys()]\n",
    "})\n",
    "\n",
    "summary_df.head()\n"
   ],
   "metadata": {
    "collapsed": false
   },
   "id": "f372bfaa0efa6a11"
  },
  {
   "cell_type": "code",
   "outputs": [],
   "source": [
    "# 保存为CSV\n",
    "cagr_df.to_csv('D:/Py_and_ML/28/calculation/agriculture.csv', index=False)"
   ],
   "metadata": {
    "collapsed": false,
    "ExecuteTime": {
     "end_time": "2024-04-03T15:35:06.869212Z",
     "start_time": "2024-04-03T15:35:06.854599Z"
    }
   },
   "id": "1d41e772f3d98051",
   "execution_count": 9
  },
  {
   "cell_type": "markdown",
   "source": [
    "# Regression"
   ],
   "metadata": {
    "collapsed": false
   },
   "id": "424b5b021a02f44"
  },
  {
   "cell_type": "code",
   "outputs": [],
   "source": [
    "# 导入必要的库\n",
    "from sklearn.svm import SVR\n",
    "from sklearn.model_selection import train_test_split\n",
    "from sklearn.datasets import make_regression\n",
    "from sklearn.preprocessing import StandardScaler\n",
    "from sklearn.metrics import mean_squared_error\n",
    "import numpy as np\n",
    "\n",
    "# 生成模拟数据\n",
    "X, y = make_regression(n_samples=100, n_features=1, noise=4.0, random_state=42)\n",
    "\n",
    "# 分割数据为训练集和测试集\n",
    "X_train, X_test, y_train, y_test = train_test_split(X, y, test_size=0.2, random_state=42)\n",
    "\n",
    "# 数据标准化\n",
    "scaler = StandardScaler()\n",
    "X_train_scaled = scaler.fit_transform(X_train)\n",
    "X_test_scaled = scaler.transform(X_test)\n",
    "\n",
    "# 创建SVR模型 - 这里使用径向基函数(RBF)核\n",
    "svr = SVR(kernel='rbf', C=100, gamma=0.1, epsilon=0.1)\n",
    "\n",
    "# 训练模型\n",
    "svr.fit(X_train_scaled, y_train)\n",
    "\n",
    "# 预测测试集\n",
    "y_pred = svr.predict(X_test_scaled)\n",
    "\n",
    "# 计算并打印均方误差\n",
    "mse = mean_squared_error(y_test, y_pred)\n",
    "print(f\"Mean Squared Error: {mse}\")\n",
    "\n",
    "# 可选：进行更多的模型评估、调参等\n"
   ],
   "metadata": {
    "collapsed": false
   },
   "id": "9255c01ae20caceb"
  }
 ],
 "metadata": {
  "kernelspec": {
   "display_name": "Python 3",
   "language": "python",
   "name": "python3"
  },
  "language_info": {
   "codemirror_mode": {
    "name": "ipython",
    "version": 2
   },
   "file_extension": ".py",
   "mimetype": "text/x-python",
   "name": "python",
   "nbconvert_exporter": "python",
   "pygments_lexer": "ipython2",
   "version": "2.7.6"
  }
 },
 "nbformat": 4,
 "nbformat_minor": 5
}
